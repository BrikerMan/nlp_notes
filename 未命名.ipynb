{
 "cells": [
  {
   "cell_type": "code",
   "execution_count": 3,
   "metadata": {
    "ExecuteTime": {
     "end_time": "2020-06-19T08:05:49.001597Z",
     "start_time": "2020-06-19T08:05:48.996186Z"
    }
   },
   "outputs": [],
   "source": [
    "import os"
   ]
  },
  {
   "cell_type": "code",
   "execution_count": 4,
   "metadata": {
    "ExecuteTime": {
     "end_time": "2020-06-19T08:05:54.865627Z",
     "start_time": "2020-06-19T08:05:54.855832Z"
    }
   },
   "outputs": [
    {
     "data": {
      "text/plain": [
       "['06-自然语言处理',\n",
       " '.git',\n",
       " '.gitignore',\n",
       " '未命名.ipynb',\n",
       " 'images',\n",
       " 'README.txt',\n",
       " 'scripts',\n",
       " '04-深度学习框架',\n",
       " '.vscode',\n",
       " '03-神经网络Python实现',\n",
       " '07-模型部署',\n",
       " 'notebooks',\n",
       " 'project3',\n",
       " '05-深度学习',\n",
       " '02-机器学习',\n",
       " 'models',\n",
       " '.ipynb_checkpoints',\n",
       " '.data',\n",
       " '01-传统模型',\n",
       " 'datasets']"
      ]
     },
     "execution_count": 4,
     "metadata": {},
     "output_type": "execute_result"
    }
   ],
   "source": [
    "os.listdir('.')"
   ]
  },
  {
   "cell_type": "code",
   "execution_count": 5,
   "metadata": {
    "ExecuteTime": {
     "end_time": "2020-06-19T08:06:41.352583Z",
     "start_time": "2020-06-19T08:06:41.346859Z"
    }
   },
   "outputs": [
    {
     "name": "stdout",
     "output_type": "stream",
     "text": [
      "01-传统模型\n",
      "02-机器学习\n",
      "03-神经网络Python实现\n",
      "04-深度学习框架\n",
      "05-深度学习\n",
      "06-自然语言处理\n",
      "07-模型部署\n"
     ]
    }
   ],
   "source": [
    "for path in sorted(os.listdir('.')):\n",
    "    if path.startswith('0'):\n",
    "        print(path)"
   ]
  },
  {
   "cell_type": "code",
   "execution_count": 6,
   "metadata": {
    "ExecuteTime": {
     "end_time": "2020-06-19T08:08:20.171733Z",
     "start_time": "2020-06-19T08:08:20.165707Z"
    }
   },
   "outputs": [],
   "source": [
    "with open(\"README.md\", 'w') as f:\n",
    "    for path in sorted(os.listdir('.')):\n",
    "        if path.startswith('0'):\n",
    "            string = f\"[{path}]('./'+path)\"\n",
    "            f.write(string)\n",
    "            f.write('\\n\\n\\n')"
   ]
  },
  {
   "cell_type": "code",
   "execution_count": null,
   "metadata": {},
   "outputs": [],
   "source": []
  }
 ],
 "metadata": {
  "kernelspec": {
   "display_name": "Python 3",
   "language": "python",
   "name": "python3"
  },
  "language_info": {
   "codemirror_mode": {
    "name": "ipython",
    "version": 3
   },
   "file_extension": ".py",
   "mimetype": "text/x-python",
   "name": "python",
   "nbconvert_exporter": "python",
   "pygments_lexer": "ipython3",
   "version": "3.7.7"
  },
  "toc": {
   "base_numbering": 1,
   "nav_menu": {},
   "number_sections": true,
   "sideBar": true,
   "skip_h1_title": false,
   "title_cell": "Table of Contents",
   "title_sidebar": "Contents",
   "toc_cell": false,
   "toc_position": {},
   "toc_section_display": true,
   "toc_window_display": false
  },
  "varInspector": {
   "cols": {
    "lenName": 16,
    "lenType": 16,
    "lenVar": 40
   },
   "kernels_config": {
    "python": {
     "delete_cmd_postfix": "",
     "delete_cmd_prefix": "del ",
     "library": "var_list.py",
     "varRefreshCmd": "print(var_dic_list())"
    },
    "r": {
     "delete_cmd_postfix": ") ",
     "delete_cmd_prefix": "rm(",
     "library": "var_list.r",
     "varRefreshCmd": "cat(var_dic_list()) "
    }
   },
   "types_to_exclude": [
    "module",
    "function",
    "builtin_function_or_method",
    "instance",
    "_Feature"
   ],
   "window_display": false
  }
 },
 "nbformat": 4,
 "nbformat_minor": 4
}
