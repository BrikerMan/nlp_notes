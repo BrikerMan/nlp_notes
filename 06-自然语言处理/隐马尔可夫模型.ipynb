{
 "cells": [
  {
   "cell_type": "markdown",
   "metadata": {},
   "source": [
    "马尔科夫链：是指数学中具有马尔可夫性质的离散事件随机过程，在给定当前知识或信息的情况下，过去（即当前以前的历史状态）对于预测将来（即当前以后的未来状态）是无关的。"
   ]
  },
  {
   "cell_type": "markdown",
   "metadata": {},
   "source": [
    "每个状态的转移只依赖于之间的n个状态，这个过程被称为1个n阶模型，其中n是影响转移状态的数目。最简单的马尔科夫过程就是一阶过程：\n",
    "$$P(x_n|x_1,x_2...x_{n-1} = P(x_n|x_{n-1})$$"
   ]
  },
  {
   "cell_type": "code",
   "execution_count": null,
   "metadata": {},
   "outputs": [],
   "source": [
    "`HMM(Hidden Markov Models)`"
   ]
  }
 ],
 "metadata": {
  "kernelspec": {
   "display_name": "Python 3",
   "language": "python",
   "name": "python3"
  },
  "language_info": {
   "codemirror_mode": {
    "name": "ipython",
    "version": 3
   },
   "file_extension": ".py",
   "mimetype": "text/x-python",
   "name": "python",
   "nbconvert_exporter": "python",
   "pygments_lexer": "ipython3",
   "version": "3.7.4"
  }
 },
 "nbformat": 4,
 "nbformat_minor": 2
}
