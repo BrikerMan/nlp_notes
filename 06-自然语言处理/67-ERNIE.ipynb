{
 "cells": [
  {
   "cell_type": "markdown",
   "metadata": {},
   "source": [
    "- 对于中文，bert使用的基于字的处理，在mask时掩盖的也仅仅是一个单字。对于中文语料，学习到的模型能很简单地推测出字搭配，但是并不会学习到短语或者实体的语义信息。\n",
    "- ERNIE模型在BERT的基础上，加入了海量语料中的实体、短语等先验语义知识，建模真实世界的语义关系。在训练时将短语、实体等先验知识进行mask，强迫模型对其进行建模，学习它们的语义表示。               \n",
    "            \n",
    "    <img src=\"../images/ERNIE-mask.PNG\" width=\"80%\" alt=\"ERINE MASK\">\n",
    "       \n"
   ]
  },
  {
   "cell_type": "markdown",
   "metadata": {},
   "source": [
    "具体来说， ERNIE 采用三种 masking 策略：\n",
    "\n",
    "    Basic-Level Masking： 跟 bert 一样对单字进行 mask，很难学习到高层次的语义信息；\n",
    "    Phrase-Level Masking： 输入仍然是单字级别的，mask连续短语；\n",
    "    Entity-Level Masking： 首先进行实体识别，然后将识别出的实体进行 mask。\n",
    "\n",
    "\n",
    "<img src=\"../images/ERNIE-masks.PNG\" width=\"100%\" alt=\"ERNIE masking\">"
   ]
  },
  {
   "cell_type": "code",
   "execution_count": null,
   "metadata": {},
   "outputs": [],
   "source": []
  }
 ],
 "metadata": {
  "kernelspec": {
   "display_name": "Python 3",
   "language": "python",
   "name": "python3"
  },
  "language_info": {
   "codemirror_mode": {
    "name": "ipython",
    "version": 3
   },
   "file_extension": ".py",
   "mimetype": "text/x-python",
   "name": "python",
   "nbconvert_exporter": "python",
   "pygments_lexer": "ipython3",
   "version": "3.7.4"
  },
  "toc": {
   "base_numbering": 1,
   "nav_menu": {},
   "number_sections": true,
   "sideBar": true,
   "skip_h1_title": false,
   "title_cell": "Table of Contents",
   "title_sidebar": "Contents",
   "toc_cell": false,
   "toc_position": {},
   "toc_section_display": true,
   "toc_window_display": false
  },
  "varInspector": {
   "cols": {
    "lenName": 16,
    "lenType": 16,
    "lenVar": 40
   },
   "kernels_config": {
    "python": {
     "delete_cmd_postfix": "",
     "delete_cmd_prefix": "del ",
     "library": "var_list.py",
     "varRefreshCmd": "print(var_dic_list())"
    },
    "r": {
     "delete_cmd_postfix": ") ",
     "delete_cmd_prefix": "rm(",
     "library": "var_list.r",
     "varRefreshCmd": "cat(var_dic_list()) "
    }
   },
   "types_to_exclude": [
    "module",
    "function",
    "builtin_function_or_method",
    "instance",
    "_Feature"
   ],
   "window_display": false
  }
 },
 "nbformat": 4,
 "nbformat_minor": 4
}
