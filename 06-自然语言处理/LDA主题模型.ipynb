{
 "cells": [
  {
   "cell_type": "markdown",
   "metadata": {},
   "source": [
    "# 什么是主题模型"
   ]
  },
  {
   "cell_type": "markdown",
   "metadata": {},
   "source": [
    "- 文本分类，如新闻属于科技类、体育类、还是经济类等等\n",
    "- 文本 --> 词袋模型\n",
    "- LDA(Latent Dirichlet Allocation)，无监督的贝叶斯模型；\n",
    "- 一种主题模型，将文档集中每篇文档的主题按照概率分布的形式给出；无监督算法，在训练时不需要手工标注的训练集，需要的仅仅是文档集以及指定主题的数量k即可；对于每一个主题都可找出一些词语描述它。\n",
    "- 词袋模型，文档由一组词构成的一个集合，词与词之间没有顺序及先后的关系。一篇文档可以包含多个主题，文档中每一个词都由其中的一个主题生成"
   ]
  },
  {
   "cell_type": "markdown",
   "metadata": {},
   "source": [
    "- 用概率作为可信度\n",
    "- 每次看见新数据，都更新可信度\n",
    "- 需要一个模型来解释数据的生成\n",
    "\n",
    "P(主题|文档) = P(主题)*P(文档|主题)\n",
    "后验概率，先验概率，似然概率(生成模型)\n",
    "\n",
    "一篇文章的每个词都是以一定概率选择了某个主题，并从这个主题中以一定概率选择某个词语而组成\n",
    "P(单词|文档)=P(单词|主题)*P(主题|文档)\n",
    "\n",
    "对于语库中的每篇文档，LDA 定义了如下生成过程(generative process)：\n",
    "- 对每一篇文档，从主题分布中抽取一个主题\n",
    "- 从上述被抽到的主题所对应的单词分布中抽取一个单词\n",
    "- 重复上述过程直至遍历⽂文档中的每一个单词\n",
    "\n",
    "具体来说：w代表单词；d代表文档；t代表主题；大写代表总集合，小写代表个体。\n",
    "- D 中每个文档 d 都可看作一个单词序列 <w1,w2,...,wn>，wi表示第 i 个单词\n",
    "- D 中涉及的所有不同单词组成一个词汇表V，LDA以文档集合D作为输入，希望训练出两个结果向量（假设形成 k 个主题，V中一共m个单词）\n",
    "    - 对D中的每个文档d，对应到不同主题的概率 <pt1,pt2,...,ptk>，其中，pti 表示d对应T中第i个主题的概率。pti=nti/n，其中 nti 表示 d 中对应第 i 个主题的词的数目，n 表示 d 中所有词的总数\n",
    "    - 对每个T中的主题，生成不同单词的概率<pw1,pw2,...,pwm>，其中，pwi 表示t生成V中第i个单词的概率。pwi = Nwi/N，其中 Nwi 表示对应到第 t 个主题的单词 wi 的数量，N表示对应到主题 t 的单词的总数\n",
    "    \n",
    "    \n",
    "P(w|d)=P(w|t)*P(t|d)    "
   ]
  },
  {
   "cell_type": "markdown",
   "metadata": {},
   "source": [
    "### 给定以下句子：\n",
    "- `I like to eat broccoli and bananas.`\n",
    "- `I ate a banana and spinach smoothie for breakfast.`\n",
    "- `Chinchillas and kittens are cute.`\n",
    "- `My sister adopted a kitten yesterday.`\n",
    "- `Look at this cute hamster munching on a piece of broccoli.`\n",
    "    \n",
    "### LDA用来自动发现句子或文档包含的主题；\n",
    "例如，给定上述句子，已知主题数目为 2，`LDA`产生下述结果：\n",
    "- 句子 1 和 2：100% 属于主题 `A`\n",
    "- 句子 3 和 4：100% 属于主题 `B`\n",
    "- 句子 5：60% 主题 `A`，40% 主题 `B`\n",
    "- 主题 A：`30% broccoli, 15% bananas, 10% breakfast, 10% munching...`，可以认为主题 `A` 表示**食物**\n",
    "- 主题 B：`20% chinchillas, 20% kittens, 20% cute, 15% hamster...`，可以认为主题 `B` 表示**动物**\n",
    "\n",
    "### LDA模型假设每个文档按下列方式生成：\n",
    "- 每个文档可以描述成 `k` 个主题的概率分布，每个主题可以描述成单词集的概率分布\n",
    "- 决定每个文档的单词数 N，例如：**泊松分布**生成 N 的值\n",
    "- 为文档选择一个概率分布，例如：k 个主题，**Dirichlet分布**确定属于每个主题的概率，上例中的 1/3 的食物主题 + 2/3 的动物主题\n",
    "- 按以下方法，生成文档中的每个单词：\n",
    "    - 选择一个主题，1/3 的概率选择到食物主题，2/3 的概率选择到动物主题\n",
    "    - 使用上一步选择的主题，生成单词；例如，选择到食物主题，则 30% 概率生成 `broccoli`, 15% 概率生成 `bananas`\n",
    "    - 重复，直至生成所有 N 个单词\n",
    "- 生成句子过程如下：\n",
    "    - 选择文档单词数为 5\n",
    "    - 1/2 食物主题 + 1/2 动物主题\n",
    "    - 从食物主题中选择第1个单词，`broccoli`\n",
    "    - 从动物主题中选择第2个单词，`panda`\n",
    "    - 从动物主题中选择第3个单词，`adorable`\n",
    "    - 从食物主题中选择第4个单词，`cherries`\n",
    "    - 从动物主题中选择第5个单词，`eating`\n",
    "    - 生成的句子为：`broccoli panda adorable cherries eating`\n",
    "    \n",
    "\n",
    "### LDA的学习过程\n",
    "- 给定文档集合，已知有 `K` 个主题，LDA需要学习到每个文档的主题和与该主题相关的单词。\n",
    "- 一种方法，`Gibbs sampling`如下：\n",
    "    - 遍历每个文档，给每个单词随机分配一个主题；该随机初始化的过程，已经给出了每个文档的主题，和每个主题相关的单词分布\n",
    "    - 遍历每个文档 `d` 中的单词 `w`\n",
    "        - 对于每个主题 `t`，计算：1)$P(t|d)=\\frac{N_t}{N}$，$N_t$ 为文档 `d` 中分配给主题 `t` 的单词个数，$N$ 为文档 `d` 的总单词数；2)$P(w|t)=\\frac{N_w}{N}$，$N_w$ 为**所有文档**中所有的单词 `w` 中被分配给主题 `t` 的数量，$N$ 表示分配给主题 `t` 的单词总数\n",
    "        - 给单词 `w` 重新分配一个主题，选择任一主题 `t` 的概率为 $P(t|d)*P(w|t)$\n",
    "        - 在上一步中，是在假设所有的主题分配都是正确的，除了当前单词\n",
    "    - 重复上述步骤，直至稳定，即可获得每个文档的主题和每个主题对应的单词\n",
    "    \n",
    "### LDA的用途\n",
    "- 如上所述的文本分类，无监督学习\n",
    "- 降维，将词袋模型表征的文档向量`{Word_i: count(Word_i, T) for Word_i in Vocabulary}`，降维为`{Topic_i: Weight(Topic_i, T) for Topic_i in Topics}`"
   ]
  },
  {
   "cell_type": "markdown",
   "metadata": {},
   "source": [
    "# 希拉里邮件分类"
   ]
  },
  {
   "cell_type": "code",
   "execution_count": 1,
   "metadata": {},
   "outputs": [],
   "source": [
    "import numpy as np\n",
    "import pandas as pd\n",
    "import re"
   ]
  },
  {
   "cell_type": "markdown",
   "metadata": {},
   "source": [
    "## 文本预处理"
   ]
  },
  {
   "cell_type": "code",
   "execution_count": 2,
   "metadata": {},
   "outputs": [],
   "source": [
    "df = pd.read_csv(\"datasets/HillaryEmails.csv\")\n",
    "df = df[['Id', 'ExtractedBodyText']].dropna()"
   ]
  },
  {
   "cell_type": "code",
   "execution_count": 3,
   "metadata": {},
   "outputs": [],
   "source": [
    "def clean_email_text(text):\n",
    "    text = text.replace('\\n', \" \")  #新行，我们是不需要的\n",
    "    text = re.sub(r\"-\", \" \", text)  #把 \"-\" 的两个单词，分开。（比如：july-edu ==> july edu）\n",
    "    text = re.sub(r\"\\d+/\\d+/\\d+\", \"\", text)  #日期，对主体模型没什么意义\n",
    "    text = re.sub(r\"[0-2]?[0-9]:[0-6][0-9]\", \"\", text)  #时间，没意义\n",
    "    text = re.sub(r\"[\\w]+@[\\.\\w]+\", \"\", text)  #邮件地址，没意义\n",
    "    text = re.sub(\n",
    "        r\"/[a-zA-Z]*[:\\//\\]*[A-Za-z0-9\\-_]+\\.+[A-Za-z0-9\\.\\/%&=\\?\\-_]+/i\", \"\",\n",
    "        text)  #网址，没意义\n",
    "    pure_text = ''\n",
    "    # 以防还有其他特殊字符（数字）等等，我们直接把他们loop一遍，过滤掉\n",
    "    for letter in text:\n",
    "        # 只留下字母和空格\n",
    "        if letter.isalpha() or letter == ' ':\n",
    "            pure_text += letter\n",
    "    # 再把那些去除特殊字符后落单的单词，直接排除。\n",
    "    # 我们就只剩下有意义的单词了。\n",
    "    text = ' '.join(word for word in pure_text.split() if len(word) > 1)\n",
    "    return text"
   ]
  },
  {
   "cell_type": "code",
   "execution_count": 6,
   "metadata": {},
   "outputs": [
    {
     "data": {
      "text/plain": [
       "array(['Thursday March PM Latest How Syria is aiding Qaddafi and more Sid hrc memo syria aiding libya docx hrc memo syria aiding libya docx March For Hillary'],\n",
       "      dtype=object)"
      ]
     },
     "execution_count": 6,
     "metadata": {},
     "output_type": "execute_result"
    }
   ],
   "source": [
    "docs = df['ExtractedBodyText']\n",
    "docs = docs.apply(lambda s: clean_email_text(s))\n",
    "docs.head(1).values"
   ]
  },
  {
   "cell_type": "code",
   "execution_count": 7,
   "metadata": {},
   "outputs": [],
   "source": [
    "doclist = docs.values"
   ]
  },
  {
   "cell_type": "markdown",
   "metadata": {},
   "source": [
    "## LDA模型"
   ]
  },
  {
   "cell_type": "code",
   "execution_count": 8,
   "metadata": {},
   "outputs": [],
   "source": [
    "from gensim import corpora, models, similarities\n",
    "import gensim"
   ]
  },
  {
   "cell_type": "code",
   "execution_count": 9,
   "metadata": {},
   "outputs": [],
   "source": [
    "stoplist = [\n",
    "    'very', 'ourselves', 'am', 'doesn', 'through', 'me', 'against', 'up',\n",
    "    'just', 'her', 'ours', 'couldn', 'because', 'is', 'isn', 'it', 'only',\n",
    "    'in', 'such', 'too', 'mustn', 'under', 'their', 'if', 'to', 'my',\n",
    "    'himself', 'after', 'why', 'while', 'can', 'each', 'itself', 'his', 'all',\n",
    "    'once', 'herself', 'more', 'our', 'they', 'hasn', 'on', 'ma', 'them',\n",
    "    'its', 'where', 'did', 'll', 'you', 'didn', 'nor', 'as', 'now', 'before',\n",
    "    'those', 'yours', 'from', 'who', 'was', 'm', 'been', 'will', 'into',\n",
    "    'same', 'how', 'some', 'of', 'out', 'with', 's', 'being', 't', 'mightn',\n",
    "    'she', 'again', 'be', 'by', 'shan', 'have', 'yourselves', 'needn', 'and',\n",
    "    'are', 'o', 'these', 'further', 'most', 'yourself', 'having', 'aren',\n",
    "    'here', 'he', 'were', 'but', 'this', 'myself', 'own', 'we', 'so', 'i',\n",
    "    'does', 'both', 'when', 'between', 'd', 'had', 'the', 'y', 'has', 'down',\n",
    "    'off', 'than', 'haven', 'whom', 'wouldn', 'should', 've', 'over',\n",
    "    'themselves', 'few', 'then', 'hadn', 'what', 'until', 'won', 'no', 'about',\n",
    "    'any', 'that', 'for', 'shouldn', 'don', 'do', 'there', 'doing', 'an', 'or',\n",
    "    'ain', 'hers', 'wasn', 'weren', 'above', 'a', 'at', 'your', 'theirs',\n",
    "    'below', 'other', 'not', 're', 'him', 'during', 'which'\n",
    "]"
   ]
  },
  {
   "cell_type": "code",
   "execution_count": 10,
   "metadata": {},
   "outputs": [],
   "source": [
    "texts = [[word for word in doc.lower().split() if word not in stoplist]\n",
    "         for doc in doclist]"
   ]
  },
  {
   "cell_type": "code",
   "execution_count": 11,
   "metadata": {},
   "outputs": [
    {
     "data": {
      "text/plain": [
       "['thursday',\n",
       " 'march',\n",
       " 'pm',\n",
       " 'latest',\n",
       " 'syria',\n",
       " 'aiding',\n",
       " 'qaddafi',\n",
       " 'sid',\n",
       " 'hrc',\n",
       " 'memo',\n",
       " 'syria',\n",
       " 'aiding',\n",
       " 'libya',\n",
       " 'docx',\n",
       " 'hrc',\n",
       " 'memo',\n",
       " 'syria',\n",
       " 'aiding',\n",
       " 'libya',\n",
       " 'docx',\n",
       " 'march',\n",
       " 'hillary']"
      ]
     },
     "execution_count": 11,
     "metadata": {},
     "output_type": "execute_result"
    }
   ],
   "source": [
    "texts[0]"
   ]
  },
  {
   "cell_type": "code",
   "execution_count": 12,
   "metadata": {},
   "outputs": [],
   "source": [
    "dictionary = corpora.Dictionary(texts)\n",
    "corpus = [dictionary.doc2bow(text) for text in texts]"
   ]
  },
  {
   "cell_type": "code",
   "execution_count": 13,
   "metadata": {},
   "outputs": [],
   "source": [
    "lda = gensim.models.ldamodel.LdaModel(corpus=corpus,\n",
    "                                      id2word=dictionary,\n",
    "                                      num_topics=20)"
   ]
  },
  {
   "cell_type": "code",
   "execution_count": 14,
   "metadata": {},
   "outputs": [
    {
     "data": {
      "text/plain": [
       "'0.011*\"settlements\" + 0.010*\"israel\" + 0.007*\"one\" + 0.006*\"settlement\" + 0.005*\"us\"'"
      ]
     },
     "execution_count": 14,
     "metadata": {},
     "output_type": "execute_result"
    }
   ],
   "source": [
    "lda.print_topic(10, topn=5)"
   ]
  },
  {
   "cell_type": "code",
   "execution_count": 15,
   "metadata": {},
   "outputs": [
    {
     "data": {
      "text/plain": [
       "[(0,\n",
       "  '0.017*\"im\" + 0.012*\"see\" + 0.009*\"sent\" + 0.008*\"agree\" + 0.007*\"thank\"'),\n",
       " (1,\n",
       "  '0.016*\"know\" + 0.009*\"thanks\" + 0.008*\"gender\" + 0.008*\"cheryl\" + 0.008*\"womens\"'),\n",
       " (2,\n",
       "  '0.095*\"pm\" + 0.048*\"office\" + 0.040*\"secretarys\" + 0.028*\"meeting\" + 0.026*\"room\"'),\n",
       " (3,\n",
       "  '0.009*\"december\" + 0.008*\"message\" + 0.005*\"email\" + 0.005*\"would\" + 0.004*\"good\"'),\n",
       " (4,\n",
       "  '0.007*\"would\" + 0.007*\"mcchrystal\" + 0.007*\"one\" + 0.007*\"good\" + 0.007*\"clips\"'),\n",
       " (5,\n",
       "  '0.065*\"pls\" + 0.049*\"ok\" + 0.029*\"print\" + 0.020*\"call\" + 0.016*\"email\"'),\n",
       " (6,\n",
       "  '0.007*\"speech\" + 0.006*\"well\" + 0.006*\"also\" + 0.006*\"would\" + 0.005*\"bill\"'),\n",
       " (7,\n",
       "  '0.013*\"call\" + 0.010*\"thx\" + 0.009*\"discuss\" + 0.009*\"percent\" + 0.006*\"corporate\"'),\n",
       " (8,\n",
       "  '0.022*\"qddr\" + 0.011*\"pm\" + 0.011*\"verveer\" + 0.008*\"holbrooke\" + 0.007*\"waldorf\"'),\n",
       " (9,\n",
       "  '0.008*\"new\" + 0.007*\"party\" + 0.006*\"one\" + 0.005*\"people\" + 0.005*\"would\"'),\n",
       " (10,\n",
       "  '0.011*\"settlements\" + 0.010*\"israel\" + 0.007*\"one\" + 0.006*\"settlement\" + 0.005*\"us\"'),\n",
       " (11, '0.111*\"fyi\" + 0.029*\"yes\" + 0.019*\"pm\" + 0.014*\"cheryl\" + 0.013*\"pis\"'),\n",
       " (12,\n",
       "  '0.009*\"arturo\" + 0.008*\"unfavorable\" + 0.005*\"favorable\" + 0.005*\"worn\" + 0.005*\"hrd\"'),\n",
       " (13,\n",
       "  '0.010*\"accords\" + 0.010*\"strobe\" + 0.009*\"palestinians\" + 0.007*\"institution\" + 0.007*\"xo\"'),\n",
       " (14,\n",
       "  '0.034*\"doc\" + 0.014*\"state\" + 0.011*\"date\" + 0.010*\"strategic\" + 0.008*\"us\"'),\n",
       " (15,\n",
       "  '0.040*\"pm\" + 0.019*\"fw\" + 0.017*\"sullivan\" + 0.013*\"monday\" + 0.012*\"sunday\"'),\n",
       " (16,\n",
       "  '0.016*\"pm\" + 0.014*\"state\" + 0.010*\"white\" + 0.010*\"house\" + 0.009*\"secretary\"'),\n",
       " (17,\n",
       "  '0.011*\"us\" + 0.007*\"would\" + 0.006*\"state\" + 0.006*\"said\" + 0.005*\"american\"'),\n",
       " (18,\n",
       "  '0.008*\"president\" + 0.008*\"obama\" + 0.007*\"would\" + 0.006*\"said\" + 0.006*\"new\"'),\n",
       " (19,\n",
       "  '0.026*\"call\" + 0.012*\"tomorrow\" + 0.011*\"think\" + 0.011*\"get\" + 0.009*\"would\"')]"
      ]
     },
     "execution_count": 15,
     "metadata": {},
     "output_type": "execute_result"
    }
   ],
   "source": [
    "lda.print_topics(num_topics=20, num_words=5)"
   ]
  },
  {
   "cell_type": "markdown",
   "metadata": {},
   "source": [
    "### 接下来：\n",
    "\n",
    "通过\n",
    "```\n",
    "lda.get_document_topics(bow)\n",
    "```\n",
    "或者\n",
    "```\n",
    "lda.get_term_topics(word_id)\n",
    "```\n",
    "\n",
    "两个方法，我们可以把新鲜的文本/单词，分类成20个主题中的一个。\n",
    "\n",
    "*但是注意，我们这里的文本和单词，都必须得经过同样步骤的文本预处理+词袋化，也就是说，变成数字表示每个单词的形式。*\n",
    "\n",
    "### 作业：\n",
    "\n",
    "我这里有希拉里twitter上的几条(每一空行是单独的一条)：\n",
    "\n",
    "```\n",
    "To all the little girls watching...never doubt that you are valuable and powerful & deserving of every chance & opportunity in the world.\n",
    "\n",
    "I was greeted by this heartwarming display on the corner of my street today. Thank you to all of you who did this. Happy Thanksgiving. -H\n",
    "\n",
    "Hoping everyone has a safe & Happy Thanksgiving today, & quality time with family & friends. -H\n",
    "\n",
    "Scripture tells us: Let us not grow weary in doing good, for in due season, we shall reap, if we do not lose heart.\n",
    "\n",
    "Let us have faith in each other. Let us not grow weary. Let us not lose heart. For there are more seasons to come and...more work to do\n",
    "\n",
    "We have still have not shattered that highest and hardest glass ceiling. But some day, someone will\n",
    "\n",
    "To Barack and Michelle Obama, our country owes you an enormous debt of gratitude. We thank you for your graceful, determined leadership\n",
    "\n",
    "Our constitutional democracy demands our participation, not just every four years, but all the time\n",
    "\n",
    "You represent the best of America, and being your candidate has been one of the greatest honors of my life\n",
    "\n",
    "Last night I congratulated Donald Trump and offered to work with him on behalf of our country\n",
    "\n",
    "Already voted? That's great! Now help Hillary win by signing up to make calls now\n",
    "\n",
    "It's Election Day! Millions of Americans have cast their votes for Hillary—join them and confirm where you vote\n",
    "\n",
    "We don’t want to shrink the vision of this country. We want to keep expanding it\n",
    "\n",
    "We have a chance to elect a 45th president who will build on our progress, who will finish the job\n",
    "\n",
    "I love our country, and I believe in our people, and I will never, ever quit on you. No matter what\n",
    "\n",
    "```\n",
    "\n",
    "各位同学请使用训练好的LDA模型，判断每句话各自属于哪个potic\n"
   ]
  },
  {
   "cell_type": "code",
   "execution_count": null,
   "metadata": {},
   "outputs": [],
   "source": []
  },
  {
   "cell_type": "markdown",
   "metadata": {},
   "source": [
    "# NIPS论文分类"
   ]
  },
  {
   "cell_type": "code",
   "execution_count": 7,
   "metadata": {},
   "outputs": [
    {
     "data": {
      "text/html": [
       "<div>\n",
       "<style scoped>\n",
       "    .dataframe tbody tr th:only-of-type {\n",
       "        vertical-align: middle;\n",
       "    }\n",
       "\n",
       "    .dataframe tbody tr th {\n",
       "        vertical-align: top;\n",
       "    }\n",
       "\n",
       "    .dataframe thead th {\n",
       "        text-align: right;\n",
       "    }\n",
       "</style>\n",
       "<table border=\"1\" class=\"dataframe\">\n",
       "  <thead>\n",
       "    <tr style=\"text-align: right;\">\n",
       "      <th></th>\n",
       "      <th>id</th>\n",
       "      <th>year</th>\n",
       "      <th>title</th>\n",
       "      <th>event_type</th>\n",
       "      <th>pdf_name</th>\n",
       "      <th>abstract</th>\n",
       "      <th>paper_text</th>\n",
       "    </tr>\n",
       "  </thead>\n",
       "  <tbody>\n",
       "    <tr>\n",
       "      <td>0</td>\n",
       "      <td>1</td>\n",
       "      <td>1987</td>\n",
       "      <td>Self-Organization of Associative Database and ...</td>\n",
       "      <td>NaN</td>\n",
       "      <td>1-self-organization-of-associative-database-an...</td>\n",
       "      <td>Abstract Missing</td>\n",
       "      <td>767\\n\\nSELF-ORGANIZATION OF ASSOCIATIVE DATABA...</td>\n",
       "    </tr>\n",
       "    <tr>\n",
       "      <td>1</td>\n",
       "      <td>10</td>\n",
       "      <td>1987</td>\n",
       "      <td>A Mean Field Theory of Layer IV of Visual Cort...</td>\n",
       "      <td>NaN</td>\n",
       "      <td>10-a-mean-field-theory-of-layer-iv-of-visual-c...</td>\n",
       "      <td>Abstract Missing</td>\n",
       "      <td>683\\n\\nA MEAN FIELD THEORY OF LAYER IV OF VISU...</td>\n",
       "    </tr>\n",
       "    <tr>\n",
       "      <td>2</td>\n",
       "      <td>100</td>\n",
       "      <td>1988</td>\n",
       "      <td>Storing Covariance by the Associative Long-Ter...</td>\n",
       "      <td>NaN</td>\n",
       "      <td>100-storing-covariance-by-the-associative-long...</td>\n",
       "      <td>Abstract Missing</td>\n",
       "      <td>394\\n\\nSTORING COVARIANCE BY THE ASSOCIATIVE\\n...</td>\n",
       "    </tr>\n",
       "    <tr>\n",
       "      <td>3</td>\n",
       "      <td>1000</td>\n",
       "      <td>1994</td>\n",
       "      <td>Bayesian Query Construction for Neural Network...</td>\n",
       "      <td>NaN</td>\n",
       "      <td>1000-bayesian-query-construction-for-neural-ne...</td>\n",
       "      <td>Abstract Missing</td>\n",
       "      <td>Bayesian Query Construction for Neural\\nNetwor...</td>\n",
       "    </tr>\n",
       "    <tr>\n",
       "      <td>4</td>\n",
       "      <td>1001</td>\n",
       "      <td>1994</td>\n",
       "      <td>Neural Network Ensembles, Cross Validation, an...</td>\n",
       "      <td>NaN</td>\n",
       "      <td>1001-neural-network-ensembles-cross-validation...</td>\n",
       "      <td>Abstract Missing</td>\n",
       "      <td>Neural Network Ensembles, Cross\\nValidation, a...</td>\n",
       "    </tr>\n",
       "  </tbody>\n",
       "</table>\n",
       "</div>"
      ],
      "text/plain": [
       "     id  year  ...          abstract                                         paper_text\n",
       "0     1  1987  ...  Abstract Missing  767\\n\\nSELF-ORGANIZATION OF ASSOCIATIVE DATABA...\n",
       "1    10  1987  ...  Abstract Missing  683\\n\\nA MEAN FIELD THEORY OF LAYER IV OF VISU...\n",
       "2   100  1988  ...  Abstract Missing  394\\n\\nSTORING COVARIANCE BY THE ASSOCIATIVE\\n...\n",
       "3  1000  1994  ...  Abstract Missing  Bayesian Query Construction for Neural\\nNetwor...\n",
       "4  1001  1994  ...  Abstract Missing  Neural Network Ensembles, Cross\\nValidation, a...\n",
       "\n",
       "[5 rows x 7 columns]"
      ]
     },
     "execution_count": 7,
     "metadata": {},
     "output_type": "execute_result"
    }
   ],
   "source": [
    "import pandas as pd\n",
    "import os\n",
    "\n",
    "papers = pd.read_csv(\"datasets/papers.csv\")\n",
    "papers.head(5)"
   ]
  },
  {
   "cell_type": "code",
   "execution_count": 8,
   "metadata": {},
   "outputs": [
    {
     "data": {
      "text/html": [
       "<div>\n",
       "<style scoped>\n",
       "    .dataframe tbody tr th:only-of-type {\n",
       "        vertical-align: middle;\n",
       "    }\n",
       "\n",
       "    .dataframe tbody tr th {\n",
       "        vertical-align: top;\n",
       "    }\n",
       "\n",
       "    .dataframe thead th {\n",
       "        text-align: right;\n",
       "    }\n",
       "</style>\n",
       "<table border=\"1\" class=\"dataframe\">\n",
       "  <thead>\n",
       "    <tr style=\"text-align: right;\">\n",
       "      <th></th>\n",
       "      <th>year</th>\n",
       "      <th>title</th>\n",
       "      <th>abstract</th>\n",
       "      <th>paper_text</th>\n",
       "    </tr>\n",
       "  </thead>\n",
       "  <tbody>\n",
       "    <tr>\n",
       "      <td>0</td>\n",
       "      <td>1987</td>\n",
       "      <td>Self-Organization of Associative Database and ...</td>\n",
       "      <td>Abstract Missing</td>\n",
       "      <td>767\\n\\nSELF-ORGANIZATION OF ASSOCIATIVE DATABA...</td>\n",
       "    </tr>\n",
       "    <tr>\n",
       "      <td>1</td>\n",
       "      <td>1987</td>\n",
       "      <td>A Mean Field Theory of Layer IV of Visual Cort...</td>\n",
       "      <td>Abstract Missing</td>\n",
       "      <td>683\\n\\nA MEAN FIELD THEORY OF LAYER IV OF VISU...</td>\n",
       "    </tr>\n",
       "    <tr>\n",
       "      <td>2</td>\n",
       "      <td>1988</td>\n",
       "      <td>Storing Covariance by the Associative Long-Ter...</td>\n",
       "      <td>Abstract Missing</td>\n",
       "      <td>394\\n\\nSTORING COVARIANCE BY THE ASSOCIATIVE\\n...</td>\n",
       "    </tr>\n",
       "    <tr>\n",
       "      <td>3</td>\n",
       "      <td>1994</td>\n",
       "      <td>Bayesian Query Construction for Neural Network...</td>\n",
       "      <td>Abstract Missing</td>\n",
       "      <td>Bayesian Query Construction for Neural\\nNetwor...</td>\n",
       "    </tr>\n",
       "    <tr>\n",
       "      <td>4</td>\n",
       "      <td>1994</td>\n",
       "      <td>Neural Network Ensembles, Cross Validation, an...</td>\n",
       "      <td>Abstract Missing</td>\n",
       "      <td>Neural Network Ensembles, Cross\\nValidation, a...</td>\n",
       "    </tr>\n",
       "  </tbody>\n",
       "</table>\n",
       "</div>"
      ],
      "text/plain": [
       "   year                                              title          abstract                                         paper_text\n",
       "0  1987  Self-Organization of Associative Database and ...  Abstract Missing  767\\n\\nSELF-ORGANIZATION OF ASSOCIATIVE DATABA...\n",
       "1  1987  A Mean Field Theory of Layer IV of Visual Cort...  Abstract Missing  683\\n\\nA MEAN FIELD THEORY OF LAYER IV OF VISU...\n",
       "2  1988  Storing Covariance by the Associative Long-Ter...  Abstract Missing  394\\n\\nSTORING COVARIANCE BY THE ASSOCIATIVE\\n...\n",
       "3  1994  Bayesian Query Construction for Neural Network...  Abstract Missing  Bayesian Query Construction for Neural\\nNetwor...\n",
       "4  1994  Neural Network Ensembles, Cross Validation, an...  Abstract Missing  Neural Network Ensembles, Cross\\nValidation, a..."
      ]
     },
     "execution_count": 8,
     "metadata": {},
     "output_type": "execute_result"
    }
   ],
   "source": [
    "papers = papers.drop(columns=['id', 'event_type', 'pdf_name'], axis=-1)\n",
    "papers.head(5)"
   ]
  },
  {
   "cell_type": "code",
   "execution_count": 9,
   "metadata": {},
   "outputs": [
    {
     "data": {
      "text/plain": [
       "0    767\\n\\nself-organization of associative databa...\n",
       "1    683\\n\\na mean field theory of layer iv of visu...\n",
       "2    394\\n\\nstoring covariance by the associative\\n...\n",
       "3    bayesian query construction for neural\\nnetwor...\n",
       "4    neural network ensembles cross\\nvalidation and...\n",
       "Name: paper_text_processed, dtype: object"
      ]
     },
     "execution_count": 9,
     "metadata": {},
     "output_type": "execute_result"
    }
   ],
   "source": [
    "# 数据清洗\n",
    "import re\n",
    "papers['paper_text_processed'] = papers['paper_text'].map(\n",
    "    lambda x: re.sub('[,\\.!?]', '', x))\n",
    "papers['paper_text_processed'] = papers['paper_text_processed'].map(\n",
    "    lambda x: x.lower())\n",
    "papers['paper_text_processed'].head(5)"
   ]
  },
  {
   "cell_type": "code",
   "execution_count": 11,
   "metadata": {},
   "outputs": [
    {
     "data": {
      "image/png": "[encoded data removed]",
      "text/plain": [
       "<PIL.Image.Image image mode=RGB size=400x200 at 0x7F8ECA060F50>"
      ]
     },
     "execution_count": 11,
     "metadata": {},
     "output_type": "execute_result"
    }
   ],
   "source": [
    "# 词云\n",
    "from wordcloud import WordCloud\n",
    "long_string = ','.join(list(papers['paper_text_processed'].values))\n",
    "wordcloud = WordCloud(background_color='white',\n",
    "                      max_words=1000,\n",
    "                      contour_width=3,\n",
    "                      contour_color='steelblue')\n",
    "wordcloud.generate(long_string)\n",
    "wordcloud.to_image()"
   ]
  },
  {
   "cell_type": "code",
   "execution_count": 14,
   "metadata": {},
   "outputs": [
    {
     "data": {
      "image/png": "[encoded data removed]",
      "text/plain": [
       "<Figure size 1080x667.491 with 1 Axes>"
      ]
     },
     "metadata": {
      "needs_background": "light"
     },
     "output_type": "display_data"
    }
   ],
   "source": [
    "# 文本处理，词频统计\n",
    "from sklearn.feature_extraction.text import CountVectorizer\n",
    "import numpy as np\n",
    "import matplotlib.pyplot as plt\n",
    "import seaborn as sns\n",
    "sns.set_style('whitegrid')\n",
    "%matplotlib inline\n",
    "\n",
    "\n",
    "def plot_10_most_common_words(count_data, count_vectorizer):\n",
    "    words = count_vectorizer.get_feature_names()\n",
    "    total_counts = np.zeros(len(words))\n",
    "    for t in count_data:\n",
    "        total_counts += t.toarray()[0]\n",
    "    count_dict = zip(words, total_counts)\n",
    "    count_dict = sorted(count_dict, key=lambda x: x[1], reverse=True)[:10]\n",
    "    words = [w[0] for w in count_dict]\n",
    "    counts = [w[1] for w in count_dict]\n",
    "    x_pos = np.arange(len(words))\n",
    "\n",
    "    plt.figure(2, figsize=(15, 15 / 1.6180))\n",
    "    plt.subplot(title='10 most common words')\n",
    "    sns.set_context(\"notebook\", font_scale=1.25, rc={\"lines.linewidth\": 2.5})\n",
    "    sns.barplot(x_pos, counts, palette='husl')\n",
    "    plt.xticks(x_pos, words, rotation=90)\n",
    "    plt.xlabel('words')\n",
    "    plt.ylabel('counts')\n",
    "    plt.show()\n",
    "\n",
    "\n",
    "count_vectorizer = CountVectorizer(stop_words='english')\n",
    "count_data = count_vectorizer.fit_transform(papers['paper_text_processed'])\n",
    "plot_10_most_common_words(count_data, count_vectorizer)"
   ]
  },
  {
   "cell_type": "code",
   "execution_count": 16,
   "metadata": {},
   "outputs": [
    {
     "name": "stdout",
     "output_type": "stream",
     "text": [
      "Topics found via LDA:\n",
      "\n",
      "Topic #0:\n",
      "network neural time input model networks learning figure neurons output\n",
      "\n",
      "Topic #1:\n",
      "image model images using object features data figure feature learning\n",
      "\n",
      "Topic #2:\n",
      "model state learning time policy models set action algorithm value\n",
      "\n",
      "Topic #3:\n",
      "algorithm problem function matrix set learning theorem let 10 bound\n",
      "\n",
      "Topic #4:\n",
      "data model learning training distribution set using 10 models function\n"
     ]
    }
   ],
   "source": [
    "# 训练LDA模型\n",
    "import warnings\n",
    "warnings.simplefilter('ignore', DeprecationWarning)\n",
    "\n",
    "from sklearn.decomposition import LatentDirichletAllocation as LDA\n",
    "\n",
    "\n",
    "def print_topics(model, count_vectorizer, n_top_words):\n",
    "    words = count_vectorizer.get_feature_names()\n",
    "    for topic_idx, topic in enumerate(model.components_):\n",
    "        print(\"\\nTopic #%d:\" % topic_idx)\n",
    "        print(\" \".join(\n",
    "            [words[i] for i in topic.argsort()[:-n_top_words - 1:-1]]))\n",
    "\n",
    "\n",
    "num_topics = 5\n",
    "num_words = 10\n",
    "lda = LDA(n_components=num_topics)\n",
    "lda.fit(count_data)\n",
    "\n",
    "print(\"Topics found via LDA:\")\n",
    "print_topics(lda, count_vectorizer, num_words)"
   ]
  },
  {
   "cell_type": "code",
   "execution_count": null,
   "metadata": {},
   "outputs": [],
   "source": []
  }
 ],
 "metadata": {
  "kernelspec": {
   "display_name": "Python 3",
   "language": "python",
   "name": "python3"
  },
  "language_info": {
   "codemirror_mode": {
    "name": "ipython",
    "version": 3
   },
   "file_extension": ".py",
   "mimetype": "text/x-python",
   "name": "python",
   "nbconvert_exporter": "python",
   "pygments_lexer": "ipython3",
   "version": "3.7.4"
  }
 },
 "nbformat": 4,
 "nbformat_minor": 2
}
