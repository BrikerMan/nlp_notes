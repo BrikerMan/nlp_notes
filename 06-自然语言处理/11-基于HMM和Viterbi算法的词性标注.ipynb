{
 "cells": [
  {
   "cell_type": "markdown",
   "metadata": {},
   "source": [
    "# 词性标注\n",
    "- 词性标注`(Part-Of-Speech tagging, POS tagging)`，判断句子中单词的词性：谓词、虚词、代词、感叹词等\n",
    "- 本质上属于分类问题，将句子中的单词按词性分类\n",
    "  \n",
    "   \n",
    "- 因此需要词性标注好的语料库，其中给定句子$s=w_1w_2...w_n$及对应的词性 $t=z_1z_2...z_n$"
   ]
  },
  {
   "cell_type": "code",
   "execution_count": 1,
   "metadata": {
    "ExecuteTime": {
     "end_time": "2020-04-30T07:57:34.714291Z",
     "start_time": "2020-04-30T07:57:34.700998Z"
    }
   },
   "outputs": [
    {
     "data": {
      "text/plain": [
       "'Newsweek/NNP\\n'"
      ]
     },
     "execution_count": 1,
     "metadata": {},
     "output_type": "execute_result"
    }
   ],
   "source": [
    "# 语料样本\n",
    "open('../datasets/pos_tagging_data.txt','r').readline()"
   ]
  },
  {
   "cell_type": "markdown",
   "metadata": {},
   "source": [
    "# 构建`N-gram`语言模型\n",
    "- 基于语料库，构建`N-gram`模型"
   ]
  },
  {
   "cell_type": "code",
   "execution_count": 2,
   "metadata": {
    "ExecuteTime": {
     "end_time": "2020-04-30T07:57:38.878726Z",
     "start_time": "2020-04-30T07:57:38.796089Z"
    }
   },
   "outputs": [],
   "source": [
    "# 创建字典，便于将文本数值化\n",
    "tag2id, id2tag = {}, {}\n",
    "word2id, id2word = {}, {}\n",
    "\n",
    "for line in open('../datasets/pos_tagging_data.txt', 'r'):\n",
    "    items = line.split('/')\n",
    "    word, tag = items[0], items[1].rstrip()\n",
    "\n",
    "    if word not in word2id:\n",
    "        word2id[word] = len(word2id)\n",
    "        id2word[len(id2word)] = word\n",
    "    if tag not in tag2id:\n",
    "        tag2id[tag] = len(tag2id)\n",
    "        id2tag[len(tag2id)] = tag\n",
    "\n",
    "M = len(word2id)  # 词典的大小\n",
    "N = len(tag2id)  # 词性的种类"
   ]
  },
  {
   "cell_type": "code",
   "execution_count": 3,
   "metadata": {
    "ExecuteTime": {
     "end_time": "2020-04-30T07:57:39.107264Z",
     "start_time": "2020-04-30T07:57:39.098519Z"
    }
   },
   "outputs": [
    {
     "name": "stdout",
     "output_type": "stream",
     "text": [
      "18978 54\n"
     ]
    }
   ],
   "source": [
    "print(M,N)"
   ]
  },
  {
   "cell_type": "code",
   "execution_count": 4,
   "metadata": {
    "ExecuteTime": {
     "end_time": "2020-04-30T07:57:40.232574Z",
     "start_time": "2020-04-30T07:57:40.229683Z"
    }
   },
   "outputs": [],
   "source": [
    "import numpy as np"
   ]
  },
  {
   "cell_type": "code",
   "execution_count": 6,
   "metadata": {
    "ExecuteTime": {
     "end_time": "2020-04-30T07:57:50.768365Z",
     "start_time": "2020-04-30T07:57:50.376141Z"
    }
   },
   "outputs": [],
   "source": [
    "pi = np.zeros(N)  # 每个词性出现在句首的概率\n",
    "A = np.zeros((N, M))  # A[i][j],给定 tag i,出现单词 j 的概率\n",
    "B = np.zeros((N, N))  # B[i][j],词性为 tag i 时，其后单词的词性为 tag j 的概率\n",
    "\n",
    "prev_tag = \"\"\n",
    "for line in open('../datasets/pos_tagging_data.txt', 'r'):\n",
    "    items = line.split('/')\n",
    "    wordId, tagId = word2id[items[0]], tag2id[items[1].rstrip()]\n",
    "\n",
    "    if prev_tag == \"\":  # 判断句子的开始\n",
    "        pi[tagId] += 1\n",
    "        A[tagId][wordId] += 1\n",
    "    else:\n",
    "        A[tagId][wordId] += 1\n",
    "        B[tag2id[prev_tag]][tagId] += 1\n",
    "\n",
    "    if items[0] == \".\":\n",
    "        prev_tag = \"\"\n",
    "    else:\n",
    "        prev_tag = items[1].rstrip()\n",
    "\n",
    "# 转化成概率\n",
    "pi = pi / sum(pi)\n",
    "for i in range(N):\n",
    "    A[i] /= sum(A[i])\n",
    "    B[i] /= sum(B[i])"
   ]
  },
  {
   "cell_type": "code",
   "execution_count": 7,
   "metadata": {
    "ExecuteTime": {
     "end_time": "2020-04-30T07:57:53.340354Z",
     "start_time": "2020-04-30T07:57:53.336173Z"
    }
   },
   "outputs": [
    {
     "data": {
      "text/plain": [
       "array([1.81324111e-01, 0.00000000e+00, 1.00049407e-02, 3.33498024e-03,\n",
       "       3.95256917e-03, 3.68083004e-02, 1.11660079e-01, 3.66847826e-02,\n",
       "       6.17588933e-04, 3.81669960e-02, 8.76976285e-03, 5.18774704e-02,\n",
       "       6.02766798e-02, 2.47035573e-04, 2.17267787e-01, 0.00000000e+00,\n",
       "       1.48221344e-03, 6.05237154e-03, 8.64624506e-04, 2.47035573e-04,\n",
       "       0.00000000e+00, 4.73073123e-02, 0.00000000e+00, 7.16403162e-03,\n",
       "       1.72924901e-03, 2.09980237e-03, 7.53458498e-02, 6.36116601e-02,\n",
       "       2.59387352e-03, 1.85276680e-03, 5.92885375e-03, 1.97628458e-03,\n",
       "       2.84090909e-03, 0.00000000e+00, 0.00000000e+00, 2.71739130e-03,\n",
       "       5.92885375e-03, 5.92885375e-03, 9.88142292e-04, 3.70553360e-04,\n",
       "       1.23517787e-04, 0.00000000e+00, 0.00000000e+00, 1.85276680e-03,\n",
       "       0.00000000e+00, 0.00000000e+00, 0.00000000e+00, 0.00000000e+00,\n",
       "       0.00000000e+00, 0.00000000e+00, 0.00000000e+00, 0.00000000e+00,\n",
       "       0.00000000e+00, 0.00000000e+00])"
      ]
     },
     "execution_count": 7,
     "metadata": {},
     "output_type": "execute_result"
    }
   ],
   "source": [
    "pi"
   ]
  },
  {
   "cell_type": "markdown",
   "metadata": {},
   "source": [
    "# 维特比算法求解最优标注"
   ]
  },
  {
   "cell_type": "code",
   "execution_count": 8,
   "metadata": {
    "ExecuteTime": {
     "end_time": "2020-04-30T07:57:57.537197Z",
     "start_time": "2020-04-30T07:57:57.533856Z"
    }
   },
   "outputs": [],
   "source": [
    "def log_(v):\n",
    "    if v==0:\n",
    "        return np.log(v+0.000001)\n",
    "    return np.log(v)"
   ]
  },
  {
   "cell_type": "code",
   "execution_count": 9,
   "metadata": {
    "ExecuteTime": {
     "end_time": "2020-04-30T07:58:01.639592Z",
     "start_time": "2020-04-30T07:58:01.633379Z"
    }
   },
   "outputs": [],
   "source": [
    "from math import log\n",
    "\n",
    "\n",
    "def viterbi(x, pi, A, B):  # x 为输入句子，\"I like playing soccer\"\n",
    "    x = [word2id[word] for word in x.split(\" \")]\n",
    "    T = len(x)\n",
    "\n",
    "    dp = np.zeros((T, N))  # 默认浮点数\n",
    "    ptr = np.array([[0 for x in range(N)] for y in range(T)])  # 整数\n",
    "\n",
    "    for j in range(N):\n",
    "        dp[0][j] = log_(pi[j]) + log_(A[j][x[0]])  # 需要添加平滑项\n",
    "\n",
    "    for i in range(1, T):\n",
    "        for j in range(N):\n",
    "            dp[i][j] = float('-inf')\n",
    "            for k in range(N):\n",
    "                score = dp[i - 1][k] + log_(B[k][j]) + log_(A[j][x[i]])\n",
    "                if score > dp[i][j]:\n",
    "                    dp[i][j] = score\n",
    "                    ptr[i][j] = k\n",
    "\n",
    "    # decoding：找出最好的 tag sequence\n",
    "    best_seq = [0] * T\n",
    "    # step1：找出最后一个单词的词性\n",
    "    best_seq[T - 1] = np.argmax(dp[T - 1])\n",
    "\n",
    "    # step2：从后向前循环依次找出每个单词的词性\n",
    "    for i in range(T - 2, -1, -1):\n",
    "        best_seq[i] = ptr[i + 1][best_seq[i + 1]]\n",
    "\n",
    "    return [id2tag[id] for id in best_seq]"
   ]
  },
  {
   "cell_type": "code",
   "execution_count": 10,
   "metadata": {
    "ExecuteTime": {
     "end_time": "2020-04-30T07:58:02.483280Z",
     "start_time": "2020-04-30T07:58:02.451065Z"
    }
   },
   "outputs": [
    {
     "data": {
      "text/plain": [
       "['CC', 'WDT', 'TO', 'VB']"
      ]
     },
     "execution_count": 10,
     "metadata": {},
     "output_type": "execute_result"
    }
   ],
   "source": [
    "x = \"I like play soccer\"\n",
    "viterbi(x,pi,A,B)"
   ]
  },
  {
   "cell_type": "code",
   "execution_count": null,
   "metadata": {},
   "outputs": [],
   "source": []
  }
 ],
 "metadata": {
  "kernelspec": {
   "display_name": "Python 3",
   "language": "python",
   "name": "python3"
  },
  "language_info": {
   "codemirror_mode": {
    "name": "ipython",
    "version": 3
   },
   "file_extension": ".py",
   "mimetype": "text/x-python",
   "name": "python",
   "nbconvert_exporter": "python",
   "pygments_lexer": "ipython3",
   "version": "3.7.4"
  },
  "toc": {
   "base_numbering": 1,
   "nav_menu": {},
   "number_sections": true,
   "sideBar": true,
   "skip_h1_title": false,
   "title_cell": "Table of Contents",
   "title_sidebar": "Contents",
   "toc_cell": false,
   "toc_position": {},
   "toc_section_display": true,
   "toc_window_display": false
  },
  "varInspector": {
   "cols": {
    "lenName": 16,
    "lenType": 16,
    "lenVar": 40
   },
   "kernels_config": {
    "python": {
     "delete_cmd_postfix": "",
     "delete_cmd_prefix": "del ",
     "library": "var_list.py",
     "varRefreshCmd": "print(var_dic_list())"
    },
    "r": {
     "delete_cmd_postfix": ") ",
     "delete_cmd_prefix": "rm(",
     "library": "var_list.r",
     "varRefreshCmd": "cat(var_dic_list()) "
    }
   },
   "types_to_exclude": [
    "module",
    "function",
    "builtin_function_or_method",
    "instance",
    "_Feature"
   ],
   "window_display": false
  }
 },
 "nbformat": 4,
 "nbformat_minor": 2
}
