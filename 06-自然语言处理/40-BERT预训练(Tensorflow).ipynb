{
 "cells": [
  {
   "cell_type": "code",
   "execution_count": null,
   "metadata": {},
   "outputs": [],
   "source": [
    "\t\n",
    "产品\t戴尔 DEL40E8 DELL U2417H\n",
    "厂商\t戴尔\n",
    "固件程序日期\t2018 年 40 周 (非显示器制造日期)\n",
    "屏幕尺寸\t24 英寸 (53 厘米 x 30 厘米)\n",
    "显示比例\t宽屏 16 : 9\n",
    "分辨率\t1080 x 1920 32 位真彩色\n",
    "\t\n",
    "产品\t京东方 BOE065D\n",
    "厂商\t京东方\n",
    "固件程序日期\t2015 年 1 周 (非显示器制造日期)\n",
    "屏幕尺寸\t15.5 英寸 (34 厘米 x 19 厘米)\n",
    "显示比例\t宽屏 16 : 9\n",
    "分辨率\t1536 x 864 32 位真彩色\n",
    "最大分辨率\t1920 x 1080\n",
    "\t\n"
   ]
  }
 ],
 "metadata": {
  "kernelspec": {
   "display_name": "Python 3",
   "language": "python",
   "name": "python3"
  },
  "language_info": {
   "codemirror_mode": {
    "name": "ipython",
    "version": 3
   },
   "file_extension": ".py",
   "mimetype": "text/x-python",
   "name": "python",
   "nbconvert_exporter": "python",
   "pygments_lexer": "ipython3",
   "version": "3.7.4"
  },
  "toc": {
   "base_numbering": 1,
   "nav_menu": {},
   "number_sections": true,
   "sideBar": true,
   "skip_h1_title": false,
   "title_cell": "Table of Contents",
   "title_sidebar": "Contents",
   "toc_cell": false,
   "toc_position": {},
   "toc_section_display": true,
   "toc_window_display": false
  },
  "varInspector": {
   "cols": {
    "lenName": 16,
    "lenType": 16,
    "lenVar": 40
   },
   "kernels_config": {
    "python": {
     "delete_cmd_postfix": "",
     "delete_cmd_prefix": "del ",
     "library": "var_list.py",
     "varRefreshCmd": "print(var_dic_list())"
    },
    "r": {
     "delete_cmd_postfix": ") ",
     "delete_cmd_prefix": "rm(",
     "library": "var_list.r",
     "varRefreshCmd": "cat(var_dic_list()) "
    }
   },
   "types_to_exclude": [
    "module",
    "function",
    "builtin_function_or_method",
    "instance",
    "_Feature"
   ],
   "window_display": false
  }
 },
 "nbformat": 4,
 "nbformat_minor": 4
}
